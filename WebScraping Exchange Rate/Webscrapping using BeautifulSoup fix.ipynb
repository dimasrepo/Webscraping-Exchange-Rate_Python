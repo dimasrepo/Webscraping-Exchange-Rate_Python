{
 "cells": [
  {
   "cell_type": "markdown",
   "metadata": {},
   "source": [
    "# Webscrapping using BeautifulSoup\n",
    "\n",
    "At this module we will learn on how do simple web scrapping using beautiful soup. Web scrapping is one of a method that we can use to colleting the data from internet. At this particular module, we will try to scrap Indonesian inflation rate from pusatdata.kontan.co.id, it's one of data center from indonesian economic newspaper that provide couple of useful financial information. To do this we will only use a couple default library from python and BeautifulSoup. \n",
    "\n",
    "This module is made as easy and simple as possible which can be used for new developer to learn how to webscrapping using Beautiful Soup. But to do webscrapping you will need a bit of knowlage in `html` which I'll also try to help to explain what you needed at this module, but it is always better if you understand a bit what in `html` first. You can read it quickly at [beautifulsoup](https://www.crummy.com/software/BeautifulSoup/bs4/doc) documentation. It explain what is html and what beautiful soup exactly do at it landing page. \n",
    "\n",
    "## Dependencies\n",
    "\n",
    "Actually to follow this module you only need to install beautifulsoup4 with `pip install beautifulsoup4` and you are good to go. But here some libraries that needed to be installed first that I use at bis module : \n",
    "\n",
    "- beautifulSoup4\n",
    "- pandas\n",
    "- matplotlibs\n",
    "\n",
    "## Background\n",
    "\n",
    "At this project we try to scrap Indonesian inflation rate from Kontan data center website. Kontan is a business and financial regular publication in Indonesia published by PT Grahanusa Mediatama, owned by Kompas Gramedia. We will try to scrap this sites for educational purpose only.\n",
    "\n",
    "A lot of you might ask why we need to scrap this data from the sites while it already have a good enough visualisation. Let's say we have task to make a forecast on Indonesia's inflation rate. To do that we need to have the data, and scrapping is a good way to collect the data we don't have from public. \n",
    "\n",
    "We will scrap 2 points from this sites. One is inflation rate MoM, inflation rate MoM is measures month over month change in the price of goods and services. The other one is inflation rate YoY,  measures year over year (last 12 montha) change in the price of goods and services. \n",
    "\n",
    "## What is BeautifulSoup\n",
    "\n",
    "Beautiful Soup is a Python library for pulling data out of HTML and XML files. Beautiful Soup 3 only works on Python 2.x, but Beautiful Soup 4 also works on Python 3.x. Beautiful Soup 4 is faster, has more features, and works with third-party parsers\n",
    "like lxml and html5lib.\n",
    "\n",
    "Since beautifulsoup used to pull the data out of a HTML, so first we need to pull out the html first. How we do it? We will use default library `request`. \n",
    "\n",
    "So all this code is doing is sending a GET request to spesific address we give. This is the same type of request your browser sent to view this page, but the only difference is that Requests can't actually render the HTML, so instead you will just get the raw HTML and the other response information.\n",
    "\n",
    "We're using the .get() function here, but Requests allows you to use other functions like .post() and .put() to send those requests as well. At this case we will going to the Kontan data center inflation rate page, you can click [here](https://pusatdata.kontan.co.id/makroekonomi/inflasi) to follow what exactly that link goes to. \n",
    "\n",
    "### Getting the HTML from the Webpage"
   ]
  },
  {
   "cell_type": "code",
   "execution_count": 1,
   "metadata": {},
   "outputs": [],
   "source": [
    "import requests\n",
    "\n",
    "url_get = requests.get('https://www.exchange-rates.org/history/IDR/USD/T')"
   ]
  },
  {
   "cell_type": "markdown",
   "metadata": {},
   "source": [
    "To visualize what exactly you get from the `request.get`, we can use .content so ee what we exactly get, in here i slice it so it won't make our screen full of the html we get from the page. You can delete the slicing if you want to see what we fully get."
   ]
  },
  {
   "cell_type": "code",
   "execution_count": 2,
   "metadata": {},
   "outputs": [
    {
     "data": {
      "text/plain": [
       "b'!DOCTYPE html>\\r\\n<!--[if lt IE 9]>\\r\\n<html class=\"no-js ie8 oldie\" lang=\"en\" xml:lang=\\'en\\'>\\r\\n<![endif]-->\\r\\n<!--[if gt IE 8]><!--><html class=\"no-js\" lang=\"en\" xml:lang=\\'en\\'><!--<![endif]-->\\r\\n<head>\\r\\n<title>USD to IDR exchange rate history</title>\\r\\n<meta http-equiv=\"X-UA-Compatible\" content=\"IE=edge\">\\r\\n<meta name=\"viewport\" content=\"width=device-width, initial-scale=1, maximum-scale=5\">\\r\\n<meta charset=\"utf-8\" /><meta http-equiv=\"Content-Type\" content=\"text/html; charset=utf-8\" />\\r\\n<base href=\"http'"
      ]
     },
     "execution_count": 2,
     "metadata": {},
     "output_type": "execute_result"
    }
   ],
   "source": [
    "url_get.content[1:500]"
   ]
  },
  {
   "cell_type": "markdown",
   "metadata": {},
   "source": [
    "As we can see we get a very unstructured and complex html, which actually contains the codes needed to show the webpages on your web browser. But we as human still confused what and where we can use that piece of code, so here where we use the beautifulsoup. Beautiful soup class will result a beautifulsoup object. Beautiful Soup transforms a complex HTML document into a complex tree of Python objects. But you’ll only ever have to deal with about four kinds of objects: `Tag`, `NavigableString`, `BeautifulSoup`, and `Comment`. But at this module we will only use `BeautifulSoup`."
   ]
  },
  {
   "cell_type": "code",
   "execution_count": 3,
   "metadata": {},
   "outputs": [
    {
     "name": "stdout",
     "output_type": "stream",
     "text": [
      "<class 'bs4.BeautifulSoup'>\n"
     ]
    }
   ],
   "source": [
    "from bs4 import BeautifulSoup \n",
    "\n",
    "soup = BeautifulSoup(url_get.content,\"html.parser\")\n",
    "print(type(soup))"
   ]
  },
  {
   "cell_type": "markdown",
   "metadata": {},
   "source": [
    "Let's see how our beautifulsoup looks like. As you can see, the content is the same with our `get_url` object but it's tidier. Also beautifulsoup give us method to make it even more prettier, for tidyness purpouse we slice to only see first 500 character. "
   ]
  },
  {
   "cell_type": "code",
   "execution_count": 4,
   "metadata": {},
   "outputs": [
    {
     "name": "stdout",
     "output_type": "stream",
     "text": [
      "<!DOCTYPE html>\n",
      "<!--[if lt IE 9]>\n",
      "<html class=\"no-js ie8 oldie\" lang=\"en\" xml:lang='en'>\n",
      "<![endif]-->\n",
      "<!--[if gt IE 8]><!-->\n",
      "<html class=\"no-js\" lang=\"en\" xml:lang=\"en\">\n",
      " <!--<![endif]-->\n",
      " <head>\n",
      "  <title>\n",
      "   USD to IDR exchange rate history\n",
      "  </title>\n",
      "  <meta content=\"IE=edge\" http-equiv=\"X-UA-Compatible\"/>\n",
      "  <meta content=\"width=device-width, initial-scale=1, maximum-scale=5\" name=\"viewport\"/>\n",
      "  <meta charset=\"utf-8\">\n",
      "   <meta content=\"text/html; charset=utf-8\" http-equiv=\"Content-Type\">\n",
      "   \n"
     ]
    }
   ],
   "source": [
    "print(soup.prettify()[:500])"
   ]
  },
  {
   "cell_type": "code",
   "execution_count": 5,
   "metadata": {},
   "outputs": [
    {
     "name": "stdout",
     "output_type": "stream",
     "text": [
      "tbody>\n",
      " <tr>\n",
      "  <td>\n",
      "   <a class=\"w\" href=\"/exchange-rate-history/usd-idr-2024-07-08\">\n",
      "    July 8, 2024\n",
      "   </a>\n",
      "   <a class=\"n\" href=\"/exchange-rate-history/usd-idr-2024-07-08\">\n",
      "    2024-7-8\n",
      "   </a>\n",
      "  </td>\n",
      "  <td>\n",
      "   <span class=\"w\">\n",
      "    <span class=\"nowrap\">\n",
      "     <span class=\"currencySymbol\">\n",
      "      $\n",
      "     </span>\n",
      "     1 =\n",
      "    </span>\n",
      "    <span class=\"nowrap\">\n",
      "     <span class=\"currencySymbol\">\n",
      "      Rp\n",
      "     </span>\n",
      "     16,285\n",
      "    </span>\n",
      "   </span>\n",
      "   <span class=\"n\">\n",
      "    <span class=\"nowrap\">\n"
     ]
    }
   ],
   "source": [
    "table = soup.find('tbody')\n",
    "print(table.prettify()[1:500])"
   ]
  },
  {
   "cell_type": "markdown",
   "metadata": {},
   "source": [
    "As we can see from the line we just extract, we get all the content we needed. As for what is div, The `div` tag defines a division or a section in an HTML document. It is easily styled by using the class or id attribute, Any sort of content can be put inside the `div` tag. \n",
    "    \n",
    "The `find()` function can help you to get you the part of the html code that you needed. While most of the html is contained in `div` you can differsiate them with help of `attrs=`, you can insert anything that in the `div` a the attrs to help you find the part you needed. \n",
    "\n",
    "Now, we need to get 3 information, that is the period of time, the inflation MoM, and the inflation YoY. Which you can read from above code, period is contained within `div` with \"kol-konten3-1\", inflation MoM in \"kol-konten3-2\", and inflation YoY in \"kol-konten3-3\". \n",
    "    \n",
    "Now I will introduce you to other useful function from beautiful soup, that's `find_all`. While the `find` fuction method is used for finding out the **first tag** with the specified name or id and returning an object of type bs4. The find_all method is used for finding out **all tags** with the specified tag name or id and returning them as a list of type bs4.\n",
    "\n",
    "For example I'll try to extract the first 5 data of date information from the html. You can use slicer to help you."
   ]
  },
  {
   "cell_type": "code",
   "execution_count": 6,
   "metadata": {},
   "outputs": [
    {
     "data": {
      "text/plain": [
       "[<a class=\"n\" href=\"/exchange-rate-history/usd-idr-2024-07-08\">2024-7-8</a>,\n",
       " <a class=\"n\" href=\"/exchange-rate-history/usd-idr-2024-07-05\">2024-7-5</a>,\n",
       " <a class=\"n\" href=\"/exchange-rate-history/usd-idr-2024-07-04\">2024-7-4</a>,\n",
       " <a class=\"n\" href=\"/exchange-rate-history/usd-idr-2024-07-03\">2024-7-3</a>,\n",
       " <a class=\"n\" href=\"/exchange-rate-history/usd-idr-2024-07-02\">2024-7-2</a>,\n",
       " <a class=\"n\" href=\"/exchange-rate-history/usd-idr-2024-07-01\">2024-7-1</a>,\n",
       " <a class=\"n\" href=\"/exchange-rate-history/usd-idr-2024-06-28\">2024-6-28</a>,\n",
       " <a class=\"n\" href=\"/exchange-rate-history/usd-idr-2024-06-27\">2024-6-27</a>,\n",
       " <a class=\"n\" href=\"/exchange-rate-history/usd-idr-2024-06-26\">2024-6-26</a>,\n",
       " <a class=\"n\" href=\"/exchange-rate-history/usd-idr-2024-06-25\">2024-6-25</a>]"
      ]
     },
     "execution_count": 6,
     "metadata": {},
     "output_type": "execute_result"
    }
   ],
   "source": [
    "table.find_all('a', attrs={'class':'n'})[:10]"
   ]
  },
  {
   "cell_type": "markdown",
   "metadata": {},
   "source": [
    "As you can see get already get the necessary key to extract all needed data. To get the only text information you can add `.text`. Remember you need to only get one information before you use `.text` otherwise it will return error. Here is the example on how you use `.text`. "
   ]
  },
  {
   "cell_type": "code",
   "execution_count": 7,
   "metadata": {},
   "outputs": [
    {
     "data": {
      "text/plain": [
       "'2024-7-3'"
      ]
     },
     "execution_count": 7,
     "metadata": {},
     "output_type": "execute_result"
    }
   ],
   "source": [
    "table.find_all('a', attrs={'class':'n'})[3].text"
   ]
  },
  {
   "cell_type": "markdown",
   "metadata": {},
   "source": [
    "### Extracting the Information\n",
    "\n",
    "Now all the `beautiful soup` part is over. All left to do is doing some programming to extract all the data automaticly, you can do this manualy at this part but if your data too long I advice you use loop. I'll show you how to make looping for extracting the data, but before that let's check how long is our data to help our looping process. Since `find_all` will always return data in format list, we will use `len()` to check how long is our list."
   ]
  },
  {
   "cell_type": "code",
   "execution_count": 8,
   "metadata": {},
   "outputs": [
    {
     "data": {
      "text/plain": [
       "129"
      ]
     },
     "execution_count": 8,
     "metadata": {},
     "output_type": "execute_result"
    }
   ],
   "source": [
    "row = table.find_all('a', attrs={'class':'n'})\n",
    "row_length = len(row)\n",
    "row_length"
   ]
  },
  {
   "cell_type": "code",
   "execution_count": 9,
   "metadata": {},
   "outputs": [
    {
     "data": {
      "text/plain": [
       "[<span class=\"nowrap\"><span class=\"currencySymbol\">$</span>1 =</span>,\n",
       " <span class=\"nowrap\"><span class=\"currencySymbol\">Rp</span>16,285</span>,\n",
       " <span class=\"nowrap\"><span class=\"currencySymbol\">$</span>1 =</span>,\n",
       " <span class=\"nowrap\"><span class=\"currencySymbol\">Rp</span>16,285</span>,\n",
       " <span class=\"nowrap\"><span class=\"currencySymbol\">$</span>1 =</span>,\n",
       " <span class=\"nowrap\"><span class=\"currencySymbol\">Rp</span>16,252</span>]"
      ]
     },
     "execution_count": 9,
     "metadata": {},
     "output_type": "execute_result"
    }
   ],
   "source": [
    "table.find_all('span', attrs={'class':'nowrap'})[:6]"
   ]
  },
  {
   "cell_type": "code",
   "execution_count": 10,
   "metadata": {},
   "outputs": [
    {
     "data": {
      "text/plain": [
       "'Rp16,285'"
      ]
     },
     "execution_count": 10,
     "metadata": {},
     "output_type": "execute_result"
    }
   ],
   "source": [
    "table.find_all('span', attrs={'class':'nowrap'})[1].text"
   ]
  },
  {
   "cell_type": "code",
   "execution_count": 11,
   "metadata": {},
   "outputs": [
    {
     "data": {
      "text/plain": [
       "516"
      ]
     },
     "execution_count": 11,
     "metadata": {},
     "output_type": "execute_result"
    }
   ],
   "source": [
    "row_rate = table.find_all('span', attrs={'class':'nowrap'})\n",
    "row_length_rate = len(row_rate)\n",
    "row_length_rate"
   ]
  },
  {
   "cell_type": "markdown",
   "metadata": {},
   "source": [
    "Okay, okay now we know the length of our data, now here what we will do for the looping process. \n",
    "\n",
    "Here what the looping do to scrap the information: \n",
    "\n",
    "- First we need to establish a placeholder to receive the information that we scrap. \n",
    "- We named our placeholder `temp` and it's a list. \n",
    "- Then we will make a loop from one until the the length of the table row, \n",
    "- which we will find all cell of the column one and two which contain period and the inflation rate. \n",
    "- Then we will append it to our tuple that we prepared before, \n",
    "- every one iteration we will scrap one line of the table.  "
   ]
  },
  {
   "cell_type": "code",
   "execution_count": 12,
   "metadata": {},
   "outputs": [
    {
     "data": {
      "text/plain": [
       "['2024-7-8',\n",
       " '2024-7-5',\n",
       " '2024-7-4',\n",
       " '2024-7-3',\n",
       " '2024-7-2',\n",
       " '2024-7-1',\n",
       " '2024-6-28',\n",
       " '2024-6-27',\n",
       " '2024-6-26',\n",
       " '2024-6-25',\n",
       " '2024-6-24',\n",
       " '2024-6-21',\n",
       " '2024-6-20',\n",
       " '2024-6-19',\n",
       " '2024-6-18',\n",
       " '2024-6-17',\n",
       " '2024-6-14',\n",
       " '2024-6-13',\n",
       " '2024-6-12',\n",
       " '2024-6-11',\n",
       " '2024-6-10',\n",
       " '2024-6-7',\n",
       " '2024-6-6',\n",
       " '2024-6-5',\n",
       " '2024-6-4',\n",
       " '2024-6-3',\n",
       " '2024-5-31',\n",
       " '2024-5-30',\n",
       " '2024-5-29',\n",
       " '2024-5-28',\n",
       " '2024-5-27',\n",
       " '2024-5-24',\n",
       " '2024-5-23',\n",
       " '2024-5-22',\n",
       " '2024-5-21',\n",
       " '2024-5-20',\n",
       " '2024-5-17',\n",
       " '2024-5-16',\n",
       " '2024-5-15',\n",
       " '2024-5-14',\n",
       " '2024-5-13',\n",
       " '2024-5-10',\n",
       " '2024-5-9',\n",
       " '2024-5-8',\n",
       " '2024-5-7',\n",
       " '2024-5-6',\n",
       " '2024-5-3',\n",
       " '2024-5-2',\n",
       " '2024-5-1',\n",
       " '2024-4-30',\n",
       " '2024-4-29',\n",
       " '2024-4-26',\n",
       " '2024-4-25',\n",
       " '2024-4-24',\n",
       " '2024-4-23',\n",
       " '2024-4-22',\n",
       " '2024-4-19',\n",
       " '2024-4-18',\n",
       " '2024-4-17',\n",
       " '2024-4-16',\n",
       " '2024-4-15',\n",
       " '2024-4-12',\n",
       " '2024-4-11',\n",
       " '2024-4-10',\n",
       " '2024-4-9',\n",
       " '2024-4-8',\n",
       " '2024-4-5',\n",
       " '2024-4-4',\n",
       " '2024-4-3',\n",
       " '2024-4-2',\n",
       " '2024-4-1',\n",
       " '2024-3-29',\n",
       " '2024-3-28',\n",
       " '2024-3-27',\n",
       " '2024-3-26',\n",
       " '2024-3-25',\n",
       " '2024-3-22',\n",
       " '2024-3-21',\n",
       " '2024-3-20',\n",
       " '2024-3-19',\n",
       " '2024-3-18',\n",
       " '2024-3-15',\n",
       " '2024-3-14',\n",
       " '2024-3-13',\n",
       " '2024-3-12',\n",
       " '2024-3-11',\n",
       " '2024-3-8',\n",
       " '2024-3-7',\n",
       " '2024-3-6',\n",
       " '2024-3-5',\n",
       " '2024-3-4',\n",
       " '2024-3-1',\n",
       " '2024-2-29',\n",
       " '2024-2-28',\n",
       " '2024-2-27',\n",
       " '2024-2-26',\n",
       " '2024-2-23',\n",
       " '2024-2-22',\n",
       " '2024-2-21',\n",
       " '2024-2-20',\n",
       " '2024-2-19',\n",
       " '2024-2-16',\n",
       " '2024-2-15',\n",
       " '2024-2-14',\n",
       " '2024-2-13',\n",
       " '2024-2-12',\n",
       " '2024-2-9',\n",
       " '2024-2-8',\n",
       " '2024-2-7',\n",
       " '2024-2-6',\n",
       " '2024-2-5',\n",
       " '2024-2-2',\n",
       " '2024-2-1',\n",
       " '2024-1-31',\n",
       " '2024-1-30',\n",
       " '2024-1-29',\n",
       " '2024-1-26',\n",
       " '2024-1-25',\n",
       " '2024-1-24',\n",
       " '2024-1-23',\n",
       " '2024-1-22',\n",
       " '2024-1-19',\n",
       " '2024-1-18',\n",
       " '2024-1-17',\n",
       " '2024-1-16',\n",
       " '2024-1-15',\n",
       " '2024-1-12',\n",
       " '2024-1-11',\n",
       " '2024-1-10']"
      ]
     },
     "execution_count": 12,
     "metadata": {},
     "output_type": "execute_result"
    }
   ],
   "source": [
    "Date = [] \n",
    "\n",
    "for i in range(0,row_length):  \n",
    "    date = table.find_all('a', attrs={'class':'n'})[i].text\n",
    "    \n",
    "    Date.append((date))\n",
    "Date"
   ]
  },
  {
   "cell_type": "code",
   "execution_count": 13,
   "metadata": {},
   "outputs": [
    {
     "data": {
      "text/plain": [
       "['Rp16,285',\n",
       " 'Rp16,252',\n",
       " 'Rp16,336',\n",
       " 'Rp16,346',\n",
       " 'Rp16,387',\n",
       " 'Rp16,374',\n",
       " 'Rp16,350',\n",
       " 'Rp16,387',\n",
       " 'Rp16,431',\n",
       " 'Rp16,399',\n",
       " 'Rp16,401',\n",
       " 'Rp16,478',\n",
       " 'Rp16,490',\n",
       " 'Rp16,391',\n",
       " 'Rp16,376',\n",
       " 'Rp16,467',\n",
       " 'Rp16,487',\n",
       " 'Rp16,283',\n",
       " 'Rp16,246',\n",
       " 'Rp16,306',\n",
       " 'Rp16,309',\n",
       " 'Rp16,277',\n",
       " 'Rp16,239',\n",
       " 'Rp16,312',\n",
       " 'Rp16,282',\n",
       " 'Rp16,210',\n",
       " 'Rp16,255',\n",
       " 'Rp16,233',\n",
       " 'Rp16,252',\n",
       " 'Rp16,115',\n",
       " 'Rp16,073',\n",
       " 'Rp16,045',\n",
       " 'Rp16,091',\n",
       " 'Rp16,041',\n",
       " 'Rp16,004',\n",
       " 'Rp16,040',\n",
       " 'Rp15,965',\n",
       " 'Rp15,931',\n",
       " 'Rp15,918',\n",
       " 'Rp16,103',\n",
       " 'Rp16,118',\n",
       " 'Rp16,055',\n",
       " 'Rp16,027',\n",
       " 'Rp16,075',\n",
       " 'Rp16,072',\n",
       " 'Rp16,042',\n",
       " 'Rp15,969',\n",
       " 'Rp16,095',\n",
       " 'Rp16,194',\n",
       " 'Rp16,263',\n",
       " 'Rp16,241',\n",
       " 'Rp16,241',\n",
       " 'Rp16,193',\n",
       " 'Rp16,212',\n",
       " 'Rp16,143',\n",
       " 'Rp16,238',\n",
       " 'Rp16,218',\n",
       " 'Rp16,210',\n",
       " 'Rp16,243',\n",
       " 'Rp16,303',\n",
       " 'Rp16,083',\n",
       " 'Rp16,118',\n",
       " 'Rp16,011',\n",
       " 'Rp16,001',\n",
       " 'Rp15,892',\n",
       " 'Rp15,912',\n",
       " 'Rp15,888',\n",
       " 'Rp15,896',\n",
       " 'Rp15,942',\n",
       " 'Rp15,952',\n",
       " 'Rp15,951',\n",
       " 'Rp15,880',\n",
       " 'Rp15,891',\n",
       " 'Rp15,901',\n",
       " 'Rp15,821',\n",
       " 'Rp15,784',\n",
       " 'Rp15,814',\n",
       " 'Rp15,727',\n",
       " 'Rp15,697',\n",
       " 'Rp15,723',\n",
       " 'Rp15,742',\n",
       " 'Rp15,647',\n",
       " 'Rp15,638',\n",
       " 'Rp15,580',\n",
       " 'Rp15,560',\n",
       " 'Rp15,525',\n",
       " 'Rp15,541',\n",
       " 'Rp15,627',\n",
       " 'Rp15,660',\n",
       " 'Rp15,743',\n",
       " 'Rp15,760',\n",
       " 'Rp15,702',\n",
       " 'Rp15,712',\n",
       " 'Rp15,731',\n",
       " 'Rp15,673',\n",
       " 'Rp15,634',\n",
       " 'Rp15,594',\n",
       " 'Rp15,594',\n",
       " 'Rp15,658',\n",
       " 'Rp15,657',\n",
       " 'Rp15,643',\n",
       " 'Rp15,656',\n",
       " 'Rp15,679',\n",
       " 'Rp15,646',\n",
       " 'Rp15,671',\n",
       " 'Rp15,581',\n",
       " 'Rp15,611',\n",
       " 'Rp15,665',\n",
       " 'Rp15,653',\n",
       " 'Rp15,738',\n",
       " 'Rp15,775',\n",
       " 'Rp15,731',\n",
       " 'Rp15,733',\n",
       " 'Rp15,768',\n",
       " 'Rp15,791',\n",
       " 'Rp15,835',\n",
       " 'Rp15,775',\n",
       " 'Rp15,820',\n",
       " 'Rp15,720',\n",
       " 'Rp15,726',\n",
       " 'Rp15,661',\n",
       " 'Rp15,620',\n",
       " 'Rp15,621',\n",
       " 'Rp15,638',\n",
       " 'Rp15,632',\n",
       " 'Rp15,553',\n",
       " 'Rp15,538',\n",
       " 'Rp15,563',\n",
       " 'Rp15,563']"
      ]
     },
     "execution_count": 13,
     "metadata": {},
     "output_type": "execute_result"
    }
   ],
   "source": [
    "Exchangerate = []\n",
    "\n",
    "for i in range(1,row_length_rate,4):\n",
    "    kurs_Rp = table.find_all('span', attrs={'class':'nowrap'})[i].text\n",
    "\n",
    "    Exchangerate.append((kurs_Rp))\n",
    "Exchangerate     "
   ]
  },
  {
   "cell_type": "code",
   "execution_count": 14,
   "metadata": {},
   "outputs": [
    {
     "data": {
      "text/plain": [
       "[('2024-7-8', 'Rp16,285'),\n",
       " ('2024-7-5', 'Rp16,252'),\n",
       " ('2024-7-4', 'Rp16,336'),\n",
       " ('2024-7-3', 'Rp16,346'),\n",
       " ('2024-7-2', 'Rp16,387'),\n",
       " ('2024-7-1', 'Rp16,374'),\n",
       " ('2024-6-28', 'Rp16,350'),\n",
       " ('2024-6-27', 'Rp16,387'),\n",
       " ('2024-6-26', 'Rp16,431'),\n",
       " ('2024-6-25', 'Rp16,399'),\n",
       " ('2024-6-24', 'Rp16,401'),\n",
       " ('2024-6-21', 'Rp16,478'),\n",
       " ('2024-6-20', 'Rp16,490'),\n",
       " ('2024-6-19', 'Rp16,391'),\n",
       " ('2024-6-18', 'Rp16,376'),\n",
       " ('2024-6-17', 'Rp16,467'),\n",
       " ('2024-6-14', 'Rp16,487'),\n",
       " ('2024-6-13', 'Rp16,283'),\n",
       " ('2024-6-12', 'Rp16,246'),\n",
       " ('2024-6-11', 'Rp16,306'),\n",
       " ('2024-6-10', 'Rp16,309'),\n",
       " ('2024-6-7', 'Rp16,277'),\n",
       " ('2024-6-6', 'Rp16,239'),\n",
       " ('2024-6-5', 'Rp16,312'),\n",
       " ('2024-6-4', 'Rp16,282'),\n",
       " ('2024-6-3', 'Rp16,210'),\n",
       " ('2024-5-31', 'Rp16,255'),\n",
       " ('2024-5-30', 'Rp16,233'),\n",
       " ('2024-5-29', 'Rp16,252'),\n",
       " ('2024-5-28', 'Rp16,115'),\n",
       " ('2024-5-27', 'Rp16,073'),\n",
       " ('2024-5-24', 'Rp16,045'),\n",
       " ('2024-5-23', 'Rp16,091'),\n",
       " ('2024-5-22', 'Rp16,041'),\n",
       " ('2024-5-21', 'Rp16,004'),\n",
       " ('2024-5-20', 'Rp16,040'),\n",
       " ('2024-5-17', 'Rp15,965'),\n",
       " ('2024-5-16', 'Rp15,931'),\n",
       " ('2024-5-15', 'Rp15,918'),\n",
       " ('2024-5-14', 'Rp16,103'),\n",
       " ('2024-5-13', 'Rp16,118'),\n",
       " ('2024-5-10', 'Rp16,055'),\n",
       " ('2024-5-9', 'Rp16,027'),\n",
       " ('2024-5-8', 'Rp16,075'),\n",
       " ('2024-5-7', 'Rp16,072'),\n",
       " ('2024-5-6', 'Rp16,042'),\n",
       " ('2024-5-3', 'Rp15,969'),\n",
       " ('2024-5-2', 'Rp16,095'),\n",
       " ('2024-5-1', 'Rp16,194'),\n",
       " ('2024-4-30', 'Rp16,263'),\n",
       " ('2024-4-29', 'Rp16,241'),\n",
       " ('2024-4-26', 'Rp16,241'),\n",
       " ('2024-4-25', 'Rp16,193'),\n",
       " ('2024-4-24', 'Rp16,212'),\n",
       " ('2024-4-23', 'Rp16,143'),\n",
       " ('2024-4-22', 'Rp16,238'),\n",
       " ('2024-4-19', 'Rp16,218'),\n",
       " ('2024-4-18', 'Rp16,210'),\n",
       " ('2024-4-17', 'Rp16,243'),\n",
       " ('2024-4-16', 'Rp16,303'),\n",
       " ('2024-4-15', 'Rp16,083'),\n",
       " ('2024-4-12', 'Rp16,118'),\n",
       " ('2024-4-11', 'Rp16,011'),\n",
       " ('2024-4-10', 'Rp16,001'),\n",
       " ('2024-4-9', 'Rp15,892'),\n",
       " ('2024-4-8', 'Rp15,912'),\n",
       " ('2024-4-5', 'Rp15,888'),\n",
       " ('2024-4-4', 'Rp15,896'),\n",
       " ('2024-4-3', 'Rp15,942'),\n",
       " ('2024-4-2', 'Rp15,952'),\n",
       " ('2024-4-1', 'Rp15,951'),\n",
       " ('2024-3-29', 'Rp15,880'),\n",
       " ('2024-3-28', 'Rp15,891'),\n",
       " ('2024-3-27', 'Rp15,901'),\n",
       " ('2024-3-26', 'Rp15,821'),\n",
       " ('2024-3-25', 'Rp15,784'),\n",
       " ('2024-3-22', 'Rp15,814'),\n",
       " ('2024-3-21', 'Rp15,727'),\n",
       " ('2024-3-20', 'Rp15,697'),\n",
       " ('2024-3-19', 'Rp15,723'),\n",
       " ('2024-3-18', 'Rp15,742'),\n",
       " ('2024-3-15', 'Rp15,647'),\n",
       " ('2024-3-14', 'Rp15,638'),\n",
       " ('2024-3-13', 'Rp15,580'),\n",
       " ('2024-3-12', 'Rp15,560'),\n",
       " ('2024-3-11', 'Rp15,525'),\n",
       " ('2024-3-8', 'Rp15,541'),\n",
       " ('2024-3-7', 'Rp15,627'),\n",
       " ('2024-3-6', 'Rp15,660'),\n",
       " ('2024-3-5', 'Rp15,743'),\n",
       " ('2024-3-4', 'Rp15,760'),\n",
       " ('2024-3-1', 'Rp15,702'),\n",
       " ('2024-2-29', 'Rp15,712'),\n",
       " ('2024-2-28', 'Rp15,731'),\n",
       " ('2024-2-27', 'Rp15,673'),\n",
       " ('2024-2-26', 'Rp15,634'),\n",
       " ('2024-2-23', 'Rp15,594'),\n",
       " ('2024-2-22', 'Rp15,594'),\n",
       " ('2024-2-21', 'Rp15,658'),\n",
       " ('2024-2-20', 'Rp15,657'),\n",
       " ('2024-2-19', 'Rp15,643'),\n",
       " ('2024-2-16', 'Rp15,656'),\n",
       " ('2024-2-15', 'Rp15,679'),\n",
       " ('2024-2-14', 'Rp15,646'),\n",
       " ('2024-2-13', 'Rp15,671'),\n",
       " ('2024-2-12', 'Rp15,581'),\n",
       " ('2024-2-9', 'Rp15,611'),\n",
       " ('2024-2-8', 'Rp15,665'),\n",
       " ('2024-2-7', 'Rp15,653'),\n",
       " ('2024-2-6', 'Rp15,738'),\n",
       " ('2024-2-5', 'Rp15,775'),\n",
       " ('2024-2-2', 'Rp15,731'),\n",
       " ('2024-2-1', 'Rp15,733'),\n",
       " ('2024-1-31', 'Rp15,768'),\n",
       " ('2024-1-30', 'Rp15,791'),\n",
       " ('2024-1-29', 'Rp15,835'),\n",
       " ('2024-1-26', 'Rp15,775'),\n",
       " ('2024-1-25', 'Rp15,820'),\n",
       " ('2024-1-24', 'Rp15,720'),\n",
       " ('2024-1-23', 'Rp15,726'),\n",
       " ('2024-1-22', 'Rp15,661'),\n",
       " ('2024-1-19', 'Rp15,620'),\n",
       " ('2024-1-18', 'Rp15,621'),\n",
       " ('2024-1-17', 'Rp15,638'),\n",
       " ('2024-1-16', 'Rp15,632'),\n",
       " ('2024-1-15', 'Rp15,553'),\n",
       " ('2024-1-12', 'Rp15,538'),\n",
       " ('2024-1-11', 'Rp15,563'),\n",
       " ('2024-1-10', 'Rp15,563')]"
      ]
     },
     "execution_count": 14,
     "metadata": {},
     "output_type": "execute_result"
    }
   ],
   "source": [
    "Exchange = list(zip(Date, Exchangerate))\n",
    "Exchange"
   ]
  },
  {
   "cell_type": "markdown",
   "metadata": {},
   "source": [
    "That the result we get, At this point we can input it to a pandas' DataFrame and do usual data analysis, but if you notice the original webpage give us reversed information. To do a further analysis let's reverse our list we can use `::-1` to do that. "
   ]
  },
  {
   "cell_type": "code",
   "execution_count": 15,
   "metadata": {},
   "outputs": [
    {
     "data": {
      "text/plain": [
       "[('2024-1-10', 'Rp15,563'),\n",
       " ('2024-1-11', 'Rp15,563'),\n",
       " ('2024-1-12', 'Rp15,538'),\n",
       " ('2024-1-15', 'Rp15,553'),\n",
       " ('2024-1-16', 'Rp15,632'),\n",
       " ('2024-1-17', 'Rp15,638'),\n",
       " ('2024-1-18', 'Rp15,621'),\n",
       " ('2024-1-19', 'Rp15,620'),\n",
       " ('2024-1-22', 'Rp15,661'),\n",
       " ('2024-1-23', 'Rp15,726')]"
      ]
     },
     "execution_count": 15,
     "metadata": {},
     "output_type": "execute_result"
    }
   ],
   "source": [
    "Exchange=Exchange[::-1]\n",
    "Exchange[:10]"
   ]
  },
  {
   "cell_type": "markdown",
   "metadata": {},
   "source": [
    "Then after we fix our list a bit, as usual we will input it to pandas' dataframe.\n",
    "\n",
    "### Creating Pandas Dataframe and Data Wrangling "
   ]
  },
  {
   "cell_type": "code",
   "execution_count": 16,
   "metadata": {},
   "outputs": [
    {
     "data": {
      "text/html": [
       "<div>\n",
       "<style scoped>\n",
       "    .dataframe tbody tr th:only-of-type {\n",
       "        vertical-align: middle;\n",
       "    }\n",
       "\n",
       "    .dataframe tbody tr th {\n",
       "        vertical-align: top;\n",
       "    }\n",
       "\n",
       "    .dataframe thead th {\n",
       "        text-align: right;\n",
       "    }\n",
       "</style>\n",
       "<table border=\"1\" class=\"dataframe\">\n",
       "  <thead>\n",
       "    <tr style=\"text-align: right;\">\n",
       "      <th></th>\n",
       "      <th>Date</th>\n",
       "      <th>Exchange_Rate</th>\n",
       "    </tr>\n",
       "  </thead>\n",
       "  <tbody>\n",
       "    <tr>\n",
       "      <th>0</th>\n",
       "      <td>2024-1-10</td>\n",
       "      <td>Rp15,563</td>\n",
       "    </tr>\n",
       "    <tr>\n",
       "      <th>1</th>\n",
       "      <td>2024-1-11</td>\n",
       "      <td>Rp15,563</td>\n",
       "    </tr>\n",
       "    <tr>\n",
       "      <th>2</th>\n",
       "      <td>2024-1-12</td>\n",
       "      <td>Rp15,538</td>\n",
       "    </tr>\n",
       "    <tr>\n",
       "      <th>3</th>\n",
       "      <td>2024-1-15</td>\n",
       "      <td>Rp15,553</td>\n",
       "    </tr>\n",
       "    <tr>\n",
       "      <th>4</th>\n",
       "      <td>2024-1-16</td>\n",
       "      <td>Rp15,632</td>\n",
       "    </tr>\n",
       "  </tbody>\n",
       "</table>\n",
       "</div>"
      ],
      "text/plain": [
       "        Date Exchange_Rate\n",
       "0  2024-1-10      Rp15,563\n",
       "1  2024-1-11      Rp15,563\n",
       "2  2024-1-12      Rp15,538\n",
       "3  2024-1-15      Rp15,553\n",
       "4  2024-1-16      Rp15,632"
      ]
     },
     "execution_count": 16,
     "metadata": {},
     "output_type": "execute_result"
    }
   ],
   "source": [
    "import pandas as pd\n",
    "pd.options.display.float_format = '{:,.2f}'.format\n",
    "df = pd.DataFrame(Exchange,columns=('Date','Exchange_Rate'))\n",
    "df.head()"
   ]
  },
  {
   "cell_type": "markdown",
   "metadata": {},
   "source": [
    "Let's check our dataframe data types to see if our data is useable. "
   ]
  },
  {
   "cell_type": "code",
   "execution_count": 17,
   "metadata": {},
   "outputs": [
    {
     "data": {
      "text/plain": [
       "Date             object\n",
       "Exchange_Rate    object\n",
       "dtype: object"
      ]
     },
     "execution_count": 17,
     "metadata": {},
     "output_type": "execute_result"
    }
   ],
   "source": [
    "df.dtypes"
   ]
  },
  {
   "cell_type": "markdown",
   "metadata": {},
   "source": [
    "Usual stuff, we can clean the data or save it to csv let's do a bit cleaning so we can do a bit of visualisation. We will change the inflation to float datatype, but before we can do that we need to change the \",\" to \".\" first. To do this we can use the help of `str.replace()`. Then lastly let's fix our period data type."
   ]
  },
  {
   "cell_type": "code",
   "execution_count": 18,
   "metadata": {},
   "outputs": [],
   "source": [
    "df['Exchange_Rate']=df['Exchange_Rate'].str.replace('Rp','')"
   ]
  },
  {
   "cell_type": "code",
   "execution_count": 19,
   "metadata": {},
   "outputs": [
    {
     "data": {
      "text/html": [
       "<div>\n",
       "<style scoped>\n",
       "    .dataframe tbody tr th:only-of-type {\n",
       "        vertical-align: middle;\n",
       "    }\n",
       "\n",
       "    .dataframe tbody tr th {\n",
       "        vertical-align: top;\n",
       "    }\n",
       "\n",
       "    .dataframe thead th {\n",
       "        text-align: right;\n",
       "    }\n",
       "</style>\n",
       "<table border=\"1\" class=\"dataframe\">\n",
       "  <thead>\n",
       "    <tr style=\"text-align: right;\">\n",
       "      <th></th>\n",
       "      <th>Date</th>\n",
       "      <th>Exchange_Rate</th>\n",
       "    </tr>\n",
       "  </thead>\n",
       "  <tbody>\n",
       "    <tr>\n",
       "      <th>0</th>\n",
       "      <td>2024-1-10</td>\n",
       "      <td>15563</td>\n",
       "    </tr>\n",
       "    <tr>\n",
       "      <th>1</th>\n",
       "      <td>2024-1-11</td>\n",
       "      <td>15563</td>\n",
       "    </tr>\n",
       "    <tr>\n",
       "      <th>2</th>\n",
       "      <td>2024-1-12</td>\n",
       "      <td>15538</td>\n",
       "    </tr>\n",
       "    <tr>\n",
       "      <th>3</th>\n",
       "      <td>2024-1-15</td>\n",
       "      <td>15553</td>\n",
       "    </tr>\n",
       "    <tr>\n",
       "      <th>4</th>\n",
       "      <td>2024-1-16</td>\n",
       "      <td>15632</td>\n",
       "    </tr>\n",
       "    <tr>\n",
       "      <th>...</th>\n",
       "      <td>...</td>\n",
       "      <td>...</td>\n",
       "    </tr>\n",
       "    <tr>\n",
       "      <th>124</th>\n",
       "      <td>2024-7-2</td>\n",
       "      <td>16387</td>\n",
       "    </tr>\n",
       "    <tr>\n",
       "      <th>125</th>\n",
       "      <td>2024-7-3</td>\n",
       "      <td>16346</td>\n",
       "    </tr>\n",
       "    <tr>\n",
       "      <th>126</th>\n",
       "      <td>2024-7-4</td>\n",
       "      <td>16336</td>\n",
       "    </tr>\n",
       "    <tr>\n",
       "      <th>127</th>\n",
       "      <td>2024-7-5</td>\n",
       "      <td>16252</td>\n",
       "    </tr>\n",
       "    <tr>\n",
       "      <th>128</th>\n",
       "      <td>2024-7-8</td>\n",
       "      <td>16285</td>\n",
       "    </tr>\n",
       "  </tbody>\n",
       "</table>\n",
       "<p>129 rows × 2 columns</p>\n",
       "</div>"
      ],
      "text/plain": [
       "          Date Exchange_Rate\n",
       "0    2024-1-10         15563\n",
       "1    2024-1-11         15563\n",
       "2    2024-1-12         15538\n",
       "3    2024-1-15         15553\n",
       "4    2024-1-16         15632\n",
       "..         ...           ...\n",
       "124   2024-7-2         16387\n",
       "125   2024-7-3         16346\n",
       "126   2024-7-4         16336\n",
       "127   2024-7-5         16252\n",
       "128   2024-7-8         16285\n",
       "\n",
       "[129 rows x 2 columns]"
      ]
     },
     "execution_count": 19,
     "metadata": {},
     "output_type": "execute_result"
    }
   ],
   "source": [
    "df['Exchange_Rate']=df['Exchange_Rate'].str.replace(',','')\n",
    "df"
   ]
  },
  {
   "cell_type": "code",
   "execution_count": 20,
   "metadata": {},
   "outputs": [
    {
     "data": {
      "text/plain": [
       "Date             datetime64[ns]\n",
       "Exchange_Rate             int64\n",
       "dtype: object"
      ]
     },
     "execution_count": 20,
     "metadata": {},
     "output_type": "execute_result"
    }
   ],
   "source": [
    "df['Exchange_Rate'] = df['Exchange_Rate'].astype('int64')\n",
    "df['Date'] = df['Date'].astype('datetime64[ns]')\n",
    "\n",
    "df.dtypes"
   ]
  },
  {
   "cell_type": "markdown",
   "metadata": {},
   "source": [
    "To make our plot behave like we want, we need to set our index of our dataframe to our time coloumn. We can use `set_index()` "
   ]
  },
  {
   "cell_type": "code",
   "execution_count": 21,
   "metadata": {},
   "outputs": [],
   "source": [
    "df = df.set_index('Date')"
   ]
  },
  {
   "cell_type": "markdown",
   "metadata": {},
   "source": [
    "And done, We can do our simple visualisation to put the cherry on top."
   ]
  },
  {
   "cell_type": "code",
   "execution_count": 22,
   "metadata": {},
   "outputs": [
    {
     "data": {
      "text/plain": [
       "<Axes: xlabel='Date'>"
      ]
     },
     "execution_count": 22,
     "metadata": {},
     "output_type": "execute_result"
    },
    {
     "data": {
      "image/png": "[encoded data removed]",
      "text/plain": [
       "<Figure size 640x480 with 1 Axes>"
      ]
     },
     "metadata": {},
     "output_type": "display_data"
    }
   ],
   "source": [
    "df.plot()"
   ]
  },
  {
   "cell_type": "code",
   "execution_count": 23,
   "metadata": {},
   "outputs": [
    {
     "data": {
      "text/html": [
       "<div>\n",
       "<style scoped>\n",
       "    .dataframe tbody tr th:only-of-type {\n",
       "        vertical-align: middle;\n",
       "    }\n",
       "\n",
       "    .dataframe tbody tr th {\n",
       "        vertical-align: top;\n",
       "    }\n",
       "\n",
       "    .dataframe thead th {\n",
       "        text-align: right;\n",
       "    }\n",
       "</style>\n",
       "<table border=\"1\" class=\"dataframe\">\n",
       "  <thead>\n",
       "    <tr style=\"text-align: right;\">\n",
       "      <th></th>\n",
       "      <th>Exchange_Rate</th>\n",
       "    </tr>\n",
       "  </thead>\n",
       "  <tbody>\n",
       "    <tr>\n",
       "      <th>count</th>\n",
       "      <td>129.00</td>\n",
       "    </tr>\n",
       "    <tr>\n",
       "      <th>mean</th>\n",
       "      <td>15,959.59</td>\n",
       "    </tr>\n",
       "    <tr>\n",
       "      <th>std</th>\n",
       "      <td>283.55</td>\n",
       "    </tr>\n",
       "    <tr>\n",
       "      <th>min</th>\n",
       "      <td>15,525.00</td>\n",
       "    </tr>\n",
       "    <tr>\n",
       "      <th>25%</th>\n",
       "      <td>15,697.00</td>\n",
       "    </tr>\n",
       "    <tr>\n",
       "      <th>50%</th>\n",
       "      <td>15,942.00</td>\n",
       "    </tr>\n",
       "    <tr>\n",
       "      <th>75%</th>\n",
       "      <td>16,238.00</td>\n",
       "    </tr>\n",
       "    <tr>\n",
       "      <th>max</th>\n",
       "      <td>16,490.00</td>\n",
       "    </tr>\n",
       "  </tbody>\n",
       "</table>\n",
       "</div>"
      ],
      "text/plain": [
       "       Exchange_Rate\n",
       "count         129.00\n",
       "mean       15,959.59\n",
       "std           283.55\n",
       "min        15,525.00\n",
       "25%        15,697.00\n",
       "50%        15,942.00\n",
       "75%        16,238.00\n",
       "max        16,490.00"
      ]
     },
     "execution_count": 23,
     "metadata": {},
     "output_type": "execute_result"
    }
   ],
   "source": [
    "df.describe(include='number')"
   ]
  },
  {
   "cell_type": "code",
   "execution_count": 24,
   "metadata": {},
   "outputs": [
    {
     "data": {
      "text/plain": [
       "Timestamp('2024-03-11 00:00:00')"
      ]
     },
     "execution_count": 24,
     "metadata": {},
     "output_type": "execute_result"
    }
   ],
   "source": [
    "df['Exchange_Rate'].idxmin()"
   ]
  },
  {
   "cell_type": "code",
   "execution_count": 25,
   "metadata": {},
   "outputs": [
    {
     "data": {
      "text/plain": [
       "Timestamp('2024-06-20 00:00:00')"
      ]
     },
     "execution_count": 25,
     "metadata": {},
     "output_type": "execute_result"
    }
   ],
   "source": [
    "df['Exchange_Rate'].idxmax()"
   ]
  },
  {
   "cell_type": "markdown",
   "metadata": {},
   "source": [
    "We already finish our web scrapping job, now we have all the data we need and we can move on to the next part of the project using pandas usual. In conclusion when you don't have a direct access to a data from a website you can always do the scrapping method. There is a couple library that can do same task like `scrapy` that can build bot to automaticly crawl data, but we choose beautiful soup since it's more beginner friendly and a helpful utility that allows a programmer to get specific elements out of a webpage (for example, a list of images). \n",
    "\n",
    "After this you also can implement the scrapping to one function and put it at the flask webapp, which you can find the demo [here](https://github.com/t3981-h/LikesRatio) and you can go to inflation branch to see example that scrap a same page or you can visit [Pricemate](https://github.com/onlyphantom/pricemate). Which scrap tiket.com data to get train price list. I hope this short module help you to understand and can kickstart you to learn more about webscrapping using Beautifulsoup. Also feel free to contact us at mentor@algorit.ma if you have more question.\n",
    "\n",
    "Happy learning~"
   ]
  }
 ],
 "metadata": {
  "kernelspec": {
   "display_name": "wizard_da",
   "language": "python",
   "name": "python3"
  },
  "language_info": {
   "codemirror_mode": {
    "name": "ipython",
    "version": 3
   },
   "file_extension": ".py",
   "mimetype": "text/x-python",
   "name": "python",
   "nbconvert_exporter": "python",
   "pygments_lexer": "ipython3",
   "version": "3.10.12"
  }
 },
 "nbformat": 4,
 "nbformat_minor": 2
}
